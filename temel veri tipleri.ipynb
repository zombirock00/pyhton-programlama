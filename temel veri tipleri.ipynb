{
 "cells": [
  {
   "cell_type": "markdown",
   "id": "31a9b2aa",
   "metadata": {},
   "source": [
    "integer"
   ]
  },
  {
   "cell_type": "code",
   "execution_count": 11,
   "id": "dfeb26a8",
   "metadata": {},
   "outputs": [],
   "source": [
    "x=int(5)"
   ]
  },
  {
   "cell_type": "code",
   "execution_count": 2,
   "id": "4d05687b",
   "metadata": {},
   "outputs": [
    {
     "data": {
      "text/plain": [
       "5"
      ]
     },
     "execution_count": 2,
     "metadata": {},
     "output_type": "execute_result"
    }
   ],
   "source": [
    "x"
   ]
  },
  {
   "cell_type": "code",
   "execution_count": 4,
   "id": "343eadf1",
   "metadata": {},
   "outputs": [
    {
     "name": "stdout",
     "output_type": "stream",
     "text": [
      "5\n",
      "<class 'int'>\n"
     ]
    }
   ],
   "source": [
    "print(x)\n",
    "print(type(x))"
   ]
  },
  {
   "cell_type": "markdown",
   "id": "1ac290fc",
   "metadata": {},
   "source": [
    "float"
   ]
  },
  {
   "cell_type": "code",
   "execution_count": 5,
   "id": "3c5d8e40",
   "metadata": {},
   "outputs": [],
   "source": [
    "x=float(3.1)"
   ]
  },
  {
   "cell_type": "code",
   "execution_count": 16,
   "id": "b2d012a7",
   "metadata": {},
   "outputs": [
    {
     "data": {
      "text/plain": [
       "5"
      ]
     },
     "execution_count": 16,
     "metadata": {},
     "output_type": "execute_result"
    }
   ],
   "source": [
    "x"
   ]
  },
  {
   "cell_type": "markdown",
   "id": "9bddc021",
   "metadata": {},
   "source": [
    "# stringler"
   ]
  },
  {
   "cell_type": "code",
   "execution_count": 17,
   "id": "25a3f584",
   "metadata": {},
   "outputs": [],
   "source": [
    "x=\"batuhan\""
   ]
  },
  {
   "cell_type": "code",
   "execution_count": 21,
   "id": "032ae473",
   "metadata": {},
   "outputs": [],
   "source": [
    "k=\"\"\"batuhan doymaz\n",
    "okula\n",
    "\"\"\""
   ]
  },
  {
   "cell_type": "code",
   "execution_count": 22,
   "id": "7a68d6f0",
   "metadata": {},
   "outputs": [
    {
     "name": "stdout",
     "output_type": "stream",
     "text": [
      "batuhan doymaz\n",
      "okula\n",
      "\n",
      "<class 'str'>\n"
     ]
    }
   ],
   "source": [
    "print(k)\n",
    "print(type(k))"
   ]
  }
 ],
 "metadata": {
  "kernelspec": {
   "display_name": "Python 3",
   "language": "python",
   "name": "python3"
  },
  "language_info": {
   "codemirror_mode": {
    "name": "ipython",
    "version": 3
   },
   "file_extension": ".py",
   "mimetype": "text/x-python",
   "name": "python",
   "nbconvert_exporter": "python",
   "pygments_lexer": "ipython3",
   "version": "3.8.8"
  }
 },
 "nbformat": 4,
 "nbformat_minor": 5
}

{
 "cells": [
  {
   "cell_type": "markdown",
   "id": "fc769623",
   "metadata": {},
   "source": [
    "# Değişkenler "
   ]
  },
  {
   "cell_type": "code",
   "execution_count": 1,
   "id": "e46f1c8e",
   "metadata": {},
   "outputs": [],
   "source": [
    "x=10"
   ]
  },
  {
   "cell_type": "code",
   "execution_count": 3,
   "id": "222e2fae",
   "metadata": {},
   "outputs": [
    {
     "name": "stdout",
     "output_type": "stream",
     "text": [
      "10\n"
     ]
    }
   ],
   "source": [
    "print(x)"
   ]
  },
  {
   "cell_type": "code",
   "execution_count": 7,
   "id": "bdffbba1",
   "metadata": {},
   "outputs": [
    {
     "name": "stdout",
     "output_type": "stream",
     "text": [
      "140726939428944\n"
     ]
    }
   ],
   "source": [
    "print(id(x))   #hafızadaki adresi "
   ]
  },
  {
   "cell_type": "markdown",
   "id": "6426c90f",
   "metadata": {},
   "source": [
    "Sırayla değer atamak"
   ]
  },
  {
   "cell_type": "code",
   "execution_count": 8,
   "id": "6171101c",
   "metadata": {},
   "outputs": [],
   "source": [
    "a,b,c=1,2,3"
   ]
  },
  {
   "cell_type": "code",
   "execution_count": 11,
   "id": "0fbbecf1",
   "metadata": {},
   "outputs": [
    {
     "name": "stdout",
     "output_type": "stream",
     "text": [
      "3\n"
     ]
    }
   ],
   "source": [
    "print(c)"
   ]
  },
  {
   "cell_type": "markdown",
   "id": "0dd5a9c3",
   "metadata": {},
   "source": [
    "Aynı değeri vermek\n"
   ]
  },
  {
   "cell_type": "code",
   "execution_count": 12,
   "id": "28779bd4",
   "metadata": {},
   "outputs": [],
   "source": [
    "a=b=c=31"
   ]
  },
  {
   "cell_type": "code",
   "execution_count": 13,
   "id": "a035225b",
   "metadata": {},
   "outputs": [
    {
     "name": "stdout",
     "output_type": "stream",
     "text": [
      "31\n"
     ]
    }
   ],
   "source": [
    "print(a)"
   ]
  },
  {
   "cell_type": "markdown",
   "id": "2814ea6e",
   "metadata": {},
   "source": [
    "Değerleri birbiri ile değiştirmek"
   ]
  },
  {
   "cell_type": "code",
   "execution_count": 14,
   "id": "1d6974a6",
   "metadata": {},
   "outputs": [],
   "source": [
    "x,y=1,2"
   ]
  },
  {
   "cell_type": "code",
   "execution_count": 15,
   "id": "fa2f6b75",
   "metadata": {},
   "outputs": [
    {
     "name": "stdout",
     "output_type": "stream",
     "text": [
      "1 2\n"
     ]
    }
   ],
   "source": [
    "print(x,y)"
   ]
  },
  {
   "cell_type": "code",
   "execution_count": 16,
   "id": "118bb37d",
   "metadata": {},
   "outputs": [],
   "source": [
    "x,y=2,1"
   ]
  },
  {
   "cell_type": "code",
   "execution_count": 17,
   "id": "f7192c4e",
   "metadata": {},
   "outputs": [
    {
     "name": "stdout",
     "output_type": "stream",
     "text": [
      "2 1\n"
     ]
    }
   ],
   "source": [
    "print(x,y)"
   ]
  },
  {
   "cell_type": "markdown",
   "id": "e4947c45",
   "metadata": {},
   "source": [
    "Değişkende index değiştirme"
   ]
  }
 ],
 "metadata": {
  "kernelspec": {
   "display_name": "Python 3",
   "language": "python",
   "name": "python3"
  },
  "language_info": {
   "codemirror_mode": {
    "name": "ipython",
    "version": 3
   },
   "file_extension": ".py",
   "mimetype": "text/x-python",
   "name": "python",
   "nbconvert_exporter": "python",
   "pygments_lexer": "ipython3",
   "version": "3.8.8"
  }
 },
 "nbformat": 4,
 "nbformat_minor": 5
}

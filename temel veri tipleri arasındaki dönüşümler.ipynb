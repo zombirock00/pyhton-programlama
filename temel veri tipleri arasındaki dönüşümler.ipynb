{
 "cells": [
  {
   "cell_type": "markdown",
   "id": "14c407b4",
   "metadata": {},
   "source": [
    "# temel veri tipleri arasındaki dönüşümler"
   ]
  },
  {
   "cell_type": "markdown",
   "id": "7079ad5f",
   "metadata": {},
   "source": [
    "ondalık sayıyı tam sayıya dönüştürme"
   ]
  },
  {
   "cell_type": "code",
   "execution_count": 16,
   "id": "83d24193",
   "metadata": {},
   "outputs": [],
   "source": [
    "x=12.5"
   ]
  },
  {
   "cell_type": "code",
   "execution_count": 17,
   "id": "03f1ddfd",
   "metadata": {},
   "outputs": [
    {
     "name": "stdout",
     "output_type": "stream",
     "text": [
      "12.5\n",
      "<class 'float'>\n"
     ]
    }
   ],
   "source": [
    "print(x)\n",
    "print(type(x))"
   ]
  },
  {
   "cell_type": "code",
   "execution_count": 22,
   "id": "cfbe00a3",
   "metadata": {
    "scrolled": true
   },
   "outputs": [
    {
     "name": "stdout",
     "output_type": "stream",
     "text": [
      "12\n",
      "<class 'int'>\n"
     ]
    }
   ],
   "source": [
    "k=int(x)\n",
    "print(k)\n",
    "print(type(k))"
   ]
  },
  {
   "cell_type": "markdown",
   "id": "64899973",
   "metadata": {},
   "source": [
    "str tam sayıya dönüştürme"
   ]
  },
  {
   "cell_type": "code",
   "execution_count": 25,
   "id": "15ee8ce9",
   "metadata": {},
   "outputs": [
    {
     "name": "stdout",
     "output_type": "stream",
     "text": [
      "<class 'str'>\n"
     ]
    }
   ],
   "source": [
    "c=\"123\"\n",
    "print(type(c))"
   ]
  },
  {
   "cell_type": "code",
   "execution_count": 27,
   "id": "bad28137",
   "metadata": {},
   "outputs": [
    {
     "name": "stdout",
     "output_type": "stream",
     "text": [
      "<class 'int'>\n"
     ]
    }
   ],
   "source": [
    "d=int(123)\n",
    "print(type(d))"
   ]
  },
  {
   "cell_type": "code",
   "execution_count": 59,
   "id": "b09f58d9",
   "metadata": {},
   "outputs": [
    {
     "name": "stdout",
     "output_type": "stream",
     "text": [
      "içine bir sayı giriniz 5\n"
     ]
    }
   ],
   "source": [
    "a=input(\"içine bir sayı giriniz\")"
   ]
  },
  {
   "cell_type": "code",
   "execution_count": 62,
   "id": "75bfd440",
   "metadata": {},
   "outputs": [
    {
     "ename": "TypeError",
     "evalue": "can only concatenate str (not \"int\") to str",
     "output_type": "error",
     "traceback": [
      "\u001b[1;31m---------------------------------------------------------------------------\u001b[0m",
      "\u001b[1;31mTypeError\u001b[0m                                 Traceback (most recent call last)",
      "\u001b[1;32m<ipython-input-62-c9e1605dae55>\u001b[0m in \u001b[0;36m<module>\u001b[1;34m\u001b[0m\n\u001b[1;32m----> 1\u001b[1;33m \u001b[0ma\u001b[0m\u001b[1;33m=\u001b[0m\u001b[0ma\u001b[0m\u001b[1;33m+\u001b[0m\u001b[1;36m1\u001b[0m\u001b[1;33m\u001b[0m\u001b[1;33m\u001b[0m\u001b[0m\n\u001b[0m",
      "\u001b[1;31mTypeError\u001b[0m: can only concatenate str (not \"int\") to str"
     ]
    }
   ],
   "source": [
    "a=a+1"
   ]
  },
  {
   "cell_type": "code",
   "execution_count": 65,
   "id": "bb7b1a8c",
   "metadata": {},
   "outputs": [
    {
     "name": "stdout",
     "output_type": "stream",
     "text": [
      "<class 'int'>\n"
     ]
    }
   ],
   "source": [
    "a=int(a)\n",
    "print(type(a))\n",
    "\n"
   ]
  },
  {
   "cell_type": "code",
   "execution_count": 67,
   "id": "cf6e2987",
   "metadata": {},
   "outputs": [],
   "source": [
    "a=a+1"
   ]
  },
  {
   "cell_type": "code",
   "execution_count": 68,
   "id": "bf9cb212",
   "metadata": {},
   "outputs": [
    {
     "data": {
      "text/plain": [
       "6"
      ]
     },
     "execution_count": 68,
     "metadata": {},
     "output_type": "execute_result"
    }
   ],
   "source": [
    "a"
   ]
  },
  {
   "cell_type": "markdown",
   "id": "7a7f7ed0",
   "metadata": {},
   "source": [
    "ondalık sayıya dönüştürme"
   ]
  },
  {
   "cell_type": "code",
   "execution_count": 75,
   "id": "d1b76947",
   "metadata": {},
   "outputs": [
    {
     "name": "stdout",
     "output_type": "stream",
     "text": [
      "<class 'int'>\n"
     ]
    }
   ],
   "source": [
    "q=10\n",
    "print(type(q))"
   ]
  },
  {
   "cell_type": "code",
   "execution_count": 76,
   "id": "9533a437",
   "metadata": {},
   "outputs": [
    {
     "name": "stdout",
     "output_type": "stream",
     "text": [
      "<class 'float'>\n",
      "10.0\n"
     ]
    }
   ],
   "source": [
    "w=float(q)\n",
    "print(type(w))\n",
    "print(w)"
   ]
  },
  {
   "cell_type": "markdown",
   "id": "a88baeeb",
   "metadata": {},
   "source": [
    "str ondalık sayıya dönüştürme"
   ]
  },
  {
   "cell_type": "code",
   "execution_count": 78,
   "id": "070922f2",
   "metadata": {},
   "outputs": [
    {
     "name": "stdout",
     "output_type": "stream",
     "text": [
      "<class 'str'>\n"
     ]
    }
   ],
   "source": [
    "e=\"123\"\n",
    "print(type(e))"
   ]
  },
  {
   "cell_type": "code",
   "execution_count": 80,
   "id": "1d79d4d5",
   "metadata": {},
   "outputs": [
    {
     "name": "stdout",
     "output_type": "stream",
     "text": [
      "<class 'float'>\n",
      "123.0\n"
     ]
    }
   ],
   "source": [
    "r=float(e)\n",
    "print(type(r))\n",
    "print(r)"
   ]
  },
  {
   "cell_type": "code",
   "execution_count": 86,
   "id": "da5677f0",
   "metadata": {},
   "outputs": [
    {
     "name": "stdout",
     "output_type": "stream",
     "text": [
      "Bir sayı giriniz. 5\n"
     ]
    }
   ],
   "source": [
    "x=float(input(\"Bir sayı giriniz.\"))"
   ]
  },
  {
   "cell_type": "code",
   "execution_count": 87,
   "id": "1b5148d2",
   "metadata": {},
   "outputs": [
    {
     "name": "stdout",
     "output_type": "stream",
     "text": [
      "<class 'float'>\n"
     ]
    }
   ],
   "source": [
    "print(type(x))"
   ]
  },
  {
   "cell_type": "markdown",
   "id": "a5f19f68",
   "metadata": {},
   "source": [
    "karakter dizisine dönüştürme "
   ]
  },
  {
   "cell_type": "code",
   "execution_count": 88,
   "id": "dccf1698",
   "metadata": {},
   "outputs": [
    {
     "name": "stdout",
     "output_type": "stream",
     "text": [
      "<class 'int'>\n",
      "<class 'str'>\n"
     ]
    }
   ],
   "source": [
    "a=10\n",
    "b=str(a)\n",
    "print(type(a))\n",
    "print(type(b))"
   ]
  },
  {
   "cell_type": "markdown",
   "id": "c274c6f6",
   "metadata": {},
   "source": [
    "karektere dönüştürme"
   ]
  },
  {
   "cell_type": "markdown",
   "id": "a2ac313d",
   "metadata": {},
   "source": [
    "https://www.rapidtables.com/code/text/ascii-table.html"
   ]
  },
  {
   "cell_type": "code",
   "execution_count": 92,
   "id": "d1b7827b",
   "metadata": {},
   "outputs": [
    {
     "name": "stdout",
     "output_type": "stream",
     "text": [
      "85\n",
      "U\n",
      "<class 'int'>\n",
      "<class 'str'>\n"
     ]
    }
   ],
   "source": [
    "a=85\n",
    "b=chr(a)\n",
    "print(a)\n",
    "print(b)\n",
    "print(type(a))\n",
    "print(type(b))"
   ]
  },
  {
   "cell_type": "code",
   "execution_count": 95,
   "id": "304632a6",
   "metadata": {},
   "outputs": [
    {
     "name": "stdout",
     "output_type": "stream",
     "text": [
      "X\n",
      "88\n",
      "<class 'str'>\n",
      "<class 'int'>\n"
     ]
    }
   ],
   "source": [
    "a=\"X\"\n",
    "b=ord(a)\n",
    "print(a)\n",
    "print(b)\n",
    "print(type(a))\n",
    "print(type(b))"
   ]
  },
  {
   "cell_type": "markdown",
   "id": "42f2deba",
   "metadata": {},
   "source": [
    "# Mantıksal tipe dönüştürme "
   ]
  },
  {
   "cell_type": "markdown",
   "id": "57c79fe4",
   "metadata": {},
   "source": [
    "int olarak 0 değere ve str olarak boş değer sahip olmayan tüm ifadelerin mantıksal karşılığı true olarak kabul edilir"
   ]
  },
  {
   "cell_type": "code",
   "execution_count": 98,
   "id": "b9a6b6df",
   "metadata": {},
   "outputs": [
    {
     "name": "stdout",
     "output_type": "stream",
     "text": [
      "<class 'int'>\n",
      "<class 'int'>\n",
      "<class 'bool'>\n",
      "<class 'bool'>\n",
      "False\n",
      "True\n"
     ]
    }
   ],
   "source": [
    "a=0\n",
    "b=1\n",
    "c=bool(a)\n",
    "d=bool(b)\n",
    "print(type(a))\n",
    "print(type(b))\n",
    "print(type(c))\n",
    "print(type(d))\n",
    "print(c)\n",
    "print(d)"
   ]
  },
  {
   "cell_type": "code",
   "execution_count": 100,
   "id": "ba57a668",
   "metadata": {},
   "outputs": [
    {
     "name": "stdout",
     "output_type": "stream",
     "text": [
      "False\n",
      "True\n"
     ]
    }
   ],
   "source": [
    "a=\"\"\n",
    "b=\"x\"\n",
    "print(bool(a))\n",
    "print(bool(b))"
   ]
  },
  {
   "cell_type": "code",
   "execution_count": null,
   "id": "9d6dff1f",
   "metadata": {},
   "outputs": [],
   "source": []
  }
 ],
 "metadata": {
  "kernelspec": {
   "display_name": "Python 3",
   "language": "python",
   "name": "python3"
  },
  "language_info": {
   "codemirror_mode": {
    "name": "ipython",
    "version": 3
   },
   "file_extension": ".py",
   "mimetype": "text/x-python",
   "name": "python",
   "nbconvert_exporter": "python",
   "pygments_lexer": "ipython3",
   "version": "3.8.8"
  }
 },
 "nbformat": 4,
 "nbformat_minor": 5
}

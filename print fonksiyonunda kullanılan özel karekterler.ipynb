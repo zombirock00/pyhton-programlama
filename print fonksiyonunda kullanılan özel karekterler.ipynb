{
 "cells": [
  {
   "cell_type": "markdown",
   "id": "ee585fd4",
   "metadata": {},
   "source": [
    "# \\n karakteri"
   ]
  },
  {
   "cell_type": "code",
   "execution_count": 4,
   "id": "b30c7603",
   "metadata": {},
   "outputs": [
    {
     "name": "stdout",
     "output_type": "stream",
     "text": [
      "Batuhan Doymaz\n",
      "Batuhan\n",
      "Doymaz\n"
     ]
    }
   ],
   "source": [
    "print(\"Batuhan Doymaz\")\n",
    "print(\"Batuhan\\nDoymaz\")"
   ]
  },
  {
   "cell_type": "markdown",
   "id": "002340fb",
   "metadata": {},
   "source": [
    "# \\t karakteri"
   ]
  },
  {
   "cell_type": "code",
   "execution_count": 9,
   "id": "34c6ca6b",
   "metadata": {},
   "outputs": [
    {
     "name": "stdout",
     "output_type": "stream",
     "text": [
      "Batuhan Doymaz\n",
      "Batuhan\t\t\t\t\tDoymaz\n"
     ]
    }
   ],
   "source": [
    "print(\"Batuhan Doymaz\")\n",
    "print(\"Batuhan\\t\\t\\t\\t\\tDoymaz\")"
   ]
  },
  {
   "cell_type": "markdown",
   "id": "59c7a3de",
   "metadata": {},
   "source": [
    "# \\b karakteri"
   ]
  },
  {
   "cell_type": "code",
   "execution_count": 13,
   "id": "ea8645ad",
   "metadata": {},
   "outputs": [
    {
     "name": "stdout",
     "output_type": "stream",
     "text": [
      "Batuhan Doymaz\n",
      "Batuhan \bDoymaz\n"
     ]
    }
   ],
   "source": [
    "print(\"Batuhan Doymaz\")\n",
    "print(\"Batuhan \\bDoymaz\")"
   ]
  },
  {
   "cell_type": "markdown",
   "id": "d1297553",
   "metadata": {},
   "source": [
    "# \\r karakteri"
   ]
  },
  {
   "cell_type": "code",
   "execution_count": 21,
   "id": "d69a2c2f",
   "metadata": {},
   "outputs": [
    {
     "name": "stdout",
     "output_type": "stream",
     "text": [
      "Batuhan \r",
      " Doymaz\n"
     ]
    }
   ],
   "source": [
    "print(\"Batuhan \\r Doymaz\")\n"
   ]
  },
  {
   "cell_type": "code",
   "execution_count": null,
   "id": "2a3c6714",
   "metadata": {},
   "outputs": [],
   "source": []
  }
 ],
 "metadata": {
  "kernelspec": {
   "display_name": "Python 3",
   "language": "python",
   "name": "python3"
  },
  "language_info": {
   "codemirror_mode": {
    "name": "ipython",
    "version": 3
   },
   "file_extension": ".py",
   "mimetype": "text/x-python",
   "name": "python",
   "nbconvert_exporter": "python",
   "pygments_lexer": "ipython3",
   "version": "3.8.8"
  }
 },
 "nbformat": 4,
 "nbformat_minor": 5
}
